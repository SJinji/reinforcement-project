{
  "nbformat": 4,
  "nbformat_minor": 0,
  "metadata": {
    "colab": {
      "provenance": [],
      "include_colab_link": true
    },
    "kernelspec": {
      "name": "python3",
      "display_name": "Python 3"
    },
    "language_info": {
      "name": "python"
    }
  },
  "cells": [
    {
      "cell_type": "markdown",
      "metadata": {
        "id": "view-in-github",
        "colab_type": "text"
      },
      "source": [
        "<a href=\"https://colab.research.google.com/github/SJinji/reinforcement_project/blob/Mai/RL_Project.ipynb\" target=\"_parent\"><img src=\"https://colab.research.google.com/assets/colab-badge.svg\" alt=\"Open In Colab\"/></a>"
      ]
    },
    {
      "cell_type": "markdown",
      "source": [
        "# **Frozen Lake with Reinforcement Learning**\n",
        "### BY Mengyu LIANG, Nhat Mai NGUYEN, Jinji SHEN"
      ],
      "metadata": {
        "id": "KuK34PFxOQ4r"
      }
    },
    {
      "cell_type": "code",
      "source": [
        "import numpy as np\n",
        "from copy import deepcopy\n",
        "import enum\n",
        "import torch\n",
        "import time\n",
        "import random\n",
        "import matplotlib.pyplot as plt"
      ],
      "metadata": {
        "id": "BTB3sFO9PL60"
      },
      "execution_count": 1,
      "outputs": []
    },
    {
      "cell_type": "markdown",
      "source": [
        "# **Environment**"
      ],
      "metadata": {
        "id": "84nkyH6IOmAu"
      }
    },
    {
      "cell_type": "markdown",
      "source": [
        "Self-buid the environment"
      ],
      "metadata": {
        "id": "bIZw-ROCzQ2o"
      }
    },
    {
      "cell_type": "code",
      "source": [
        "# define the possible actions as an enumeration\n",
        "class Action(enum.Enum):\n",
        "    Left = 0\n",
        "    Right = 1\n",
        "    Up = 2\n",
        "    Down = 3\n",
        "\n",
        "# define the environment class\n",
        "class Environment:\n",
        "    def __init__(self):\n",
        "        # initialize the map, which is a 4x4 grid of characters\n",
        "        self.map = np.array([['S', 'F', 'F', 'F'], \n",
        "                             ['F', 'H', 'F', 'H'], \n",
        "                             ['F', 'F', 'F', 'H'], \n",
        "                             ['H', 'F', 'F', 'G']])\n",
        "        # define the action space as an array of possible actions\n",
        "        self.action_space = np.array([Action.Left, Action.Right, Action.Up, Action.Down])\n",
        "        # define the state space as an array of integers from 0 to 15\n",
        "        self.state_space = [i for i in range(np.array(self.map).size)]\n",
        "\n",
        "        # define the states where certain actions are invalid (i.e. the agent would go off the map)\n",
        "        self.no_left_states = [4, 8, 0, 12]\n",
        "        self.no_right_states = [7, 11, 3, 15]\n",
        "        self.no_up_states = [1, 2, 0, 3]\n",
        "        self.no_down_states = [13, 14, 12, 15]\n",
        "\n",
        "        # initialize the current state to be the top-left corner of the map\n",
        "        self.current_state = 0\n",
        "\n",
        "    # return the action space\n",
        "    def get_action_space(self):\n",
        "        return self.action_space\n",
        "\n",
        "    # return the state space\n",
        "    def get_state_space(self):\n",
        "        return self.state_space\n",
        "\n",
        "    # select a random action from the action space\n",
        "    def get_random_action(self):\n",
        "        return np.random.choice(self.action_space)\n",
        "\n",
        "    # take a step in the environment, given an action index\n",
        "    def step(self, action_index):\n",
        "        # convert the action index to an Action enumeration\n",
        "        action = Action(action_index)\n",
        "\n",
        "        # check if the action is invalid (i.e. would make the agent go off the map)\n",
        "        if self.invalid_action(action):\n",
        "            # if so, return the current state, reward of 0, and False to indicate that the episode is not over\n",
        "            return self.current_state, 0, False\n",
        "\n",
        "        # update the current state based on the action\n",
        "        if action == Action.Left:\n",
        "            self.current_state -= 1\n",
        "        elif action == Action.Right:\n",
        "            self.current_state += 1\n",
        "        elif action == Action.Up:\n",
        "            self.current_state -= 4\n",
        "        else:\n",
        "            self.current_state += 4\n",
        "\n",
        "        # get the row and column indices of the current state\n",
        "        row, column = self.get_indices_of_current_state()\n",
        "        # get the character at the current state's position on the map\n",
        "        letter = self.map[row][column]\n",
        "\n",
        "        # if the current state is a 'S' or 'F', return the current state, reward of 0, and False to indicate that the episode is not over\n",
        "        if letter == 'S' or letter == 'F':\n",
        "            return self.current_state, 0, False\n",
        "        # if the current state is a 'G', return the current state, reward of 1, and True to indicate that the episode is over\n",
        "        elif letter == 'G':\n",
        "            return self.current_state, 1, True\n",
        "        # if the current state is a 'H', return the current state, reward of 0, and True to indicate that the episode is over\n",
        "        else:\n",
        "            return self.current_state, 0, True\n",
        "\n",
        "    def invalid_action(self, action):\n",
        "        # Check if the chosen action is not allowed in the current state\n",
        "        if (action == Action.Left and self.current_state in self.no_left_states) or \\\n",
        "           (action == Action.Right and self.current_state in self.no_right_states) or \\\n",
        "           (action == Action.Up and self.current_state in self.no_up_states) or \\\n",
        "           (action == Action.Down and self.current_state in self.no_down_states):\n",
        "            return True\n",
        "\n",
        "        return False\n",
        "\n",
        "    def get_indices_of_current_state(self):\n",
        "        # Convert the current state to a row and column index on the map\n",
        "        temp = 0\n",
        "        for i in range(len(self.map)):\n",
        "            for j in range(len(self.map[0])):\n",
        "                if temp == self.current_state:\n",
        "                    return i, j\n",
        "                temp += 1\n",
        "\n",
        "    def reset(self):\n",
        "        # reset the current state to the starting state (which is 0 in this case) and returns the new current state\n",
        "        self.current_state = 0\n",
        "        return self.current_state\n",
        "\n",
        "    def print_current_state(self):\n",
        "        # make a copy of the map\n",
        "        temp_map = deepcopy(self.map)\n",
        "        row, column = self.get_indices_of_current_state()\n",
        "        # replace the cell at the current state with an 'X' symbol in the copy\n",
        "        temp_map[row][column] = 'X'\n",
        "\n",
        "        # prints the map with the current state symbol to the console.\n",
        "        for r in temp_map:\n",
        "            print(r[0], r[1], r[2], r[3])\n",
        "        print()"
      ],
      "metadata": {
        "id": "mGhSo5K4R_Ee"
      },
      "execution_count": 15,
      "outputs": []
    },
    {
      "cell_type": "markdown",
      "source": [
        "Check the environment"
      ],
      "metadata": {
        "id": "GTxWUd_XzTrM"
      }
    },
    {
      "cell_type": "code",
      "source": [
        "# create an instance of the Environment class\n",
        "env = Environment()\n",
        "\n",
        "# print the current state\n",
        "env.print_current_state()\n",
        "\n",
        "# take a step with a random action\n",
        "action = env.get_random_action()\n",
        "next_state, reward, done = env.step(action.value)\n",
        "print(\"Action taken:\", action)\n",
        "print(\"Next state:\", next_state)\n",
        "print(\"Reward received:\", reward)\n",
        "print(\"Done?\", done)\n",
        "\n",
        "# reset the environment\n",
        "env.reset()"
      ],
      "metadata": {
        "id": "o6TYnxNQbxPR",
        "outputId": "1e79713a-0f95-4f46-9df1-03e118d5d116",
        "colab": {
          "base_uri": "https://localhost:8080/"
        }
      },
      "execution_count": 16,
      "outputs": [
        {
          "output_type": "stream",
          "name": "stdout",
          "text": [
            "X F F F\n",
            "F H F H\n",
            "F F F H\n",
            "H F F G\n",
            "\n",
            "Action taken: Action.Right\n",
            "Next state: 1\n",
            "Reward received: 0\n",
            "Done? False\n"
          ]
        },
        {
          "output_type": "execute_result",
          "data": {
            "text/plain": [
              "0"
            ]
          },
          "metadata": {},
          "execution_count": 16
        }
      ]
    },
    {
      "cell_type": "code",
      "source": [
        "# Total number of States and Actions\n",
        "number_of_states = len(env.get_state_space())\n",
        "number_of_actions = len(env.get_action_space())\n",
        "print( \"States = \", number_of_states)\n",
        "print( \"Actions = \", number_of_actions)"
      ],
      "metadata": {
        "colab": {
          "base_uri": "https://localhost:8080/"
        },
        "id": "yHDftSurPfFt",
        "outputId": "014db3a7-12ca-411f-ed7c-01a6f9a4de00"
      },
      "execution_count": 17,
      "outputs": [
        {
          "output_type": "stream",
          "name": "stdout",
          "text": [
            "States =  16\n",
            "Actions =  4\n"
          ]
        }
      ]
    },
    {
      "cell_type": "markdown",
      "source": [
        "# **Agents**"
      ],
      "metadata": {
        "id": "b3fRsQKt7ENH"
      }
    },
    {
      "cell_type": "code",
      "source": [
        "# Parameters\n",
        "num_episodes = 1000\n",
        "gamma = 0.95 # Discount on reward\n",
        "learning_rate = 0.9 # Factor to balance the ratio of action taken based on past experience to current situtation\n",
        "egreedy_start = 0.7 # exploit vs explore to find action, start with 70% random actions to explore the environment\n",
        "egreedy_decay = 0.999 # and with time, using decay to shift to more optimal actions learned from experience\n",
        "egreedy_final = 0.1 # lowe limit for egreedy during decaying"
      ],
      "metadata": {
        "id": "T45W4tSQQMJq"
      },
      "execution_count": 28,
      "outputs": []
    },
    {
      "cell_type": "markdown",
      "source": [
        "### **Q_learning**"
      ],
      "metadata": {
        "id": "RhkXQX4NdEKZ"
      }
    },
    {
      "cell_type": "code",
      "source": [
        "def train_qlearning(gamma,learning_rate):\n",
        "  # Create empty lists to store step, reward, egreedy\n",
        "  Q_steps_total = []\n",
        "  Q_rewards_total = []\n",
        "  Q_egreedy_total = []\n",
        "  egreedy = egreedy_start\n",
        "  # Create table to store Q-value (initialized with 0)\n",
        "  Q = torch.zeros([number_of_states, number_of_actions])\n",
        "\n",
        "  # Train the agent\n",
        "  for i_episode in range(num_episodes):\n",
        "    # Resets the environment\n",
        "    state = env.reset()\n",
        "    step = 0\n",
        "\n",
        "    while True:\n",
        "        step += 1\n",
        "        # Take random action with probablity = egreedy\n",
        "        random_for_egreedy = torch.rand(1)[0]\n",
        "        if random_for_egreedy > egreedy:\n",
        "            q_values = [Q[state][action] for action in [0,1,2,3]]  \n",
        "            max_q = max(q_values)\n",
        "            if q_values.count(max_q) > 1:\n",
        "              best_actions = [i for i in [0,1,2,3] if q_values[i] == max_q]\n",
        "              action = random.choice(best_actions) # randomly choose best action that has the same max Q\n",
        "            else:\n",
        "              action = q_values.index(max_q)\n",
        "            '''random_values = Q[state] + torch.rand(1,number_of_actions) / 1000      \n",
        "            action = torch.max(random_values,1)[1][0]  \n",
        "            action = action.item()'''\n",
        "        else:\n",
        "            action = env.get_random_action().value\n",
        "        # Decaying egreedy until reaching egreedy_final          \n",
        "        if egreedy > egreedy_final:\n",
        "            egreedy *= egreedy_decay\n",
        "        # Get environment info after taking action\n",
        "        new_state, reward, done = env.step(action)\n",
        "        # Filling the Q-Table\n",
        "        current_q = Q[state, action] # get the current Q-value\n",
        "        update_q = (1 - learning_rate)* current_q + learning_rate * (reward + gamma * torch.max(Q[new_state])) # get the updated Q-value\n",
        "        Q[state, action] = update_q\n",
        "        state = new_state\n",
        "        # If the episode ends, update steps_total, rewards_total, egreedy_total\n",
        "        if done:\n",
        "            Q_steps_total.append(step)\n",
        "            Q_rewards_total.append(reward)\n",
        "            Q_egreedy_total.append(egreedy)\n",
        "            #print('Episode: {} Reward: {} Steps Taken: {}'.format(i_episode,reward, step))\n",
        "            break\n",
        "  return Q, Q_steps_total, Q_rewards_total, Q_egreedy_total\n",
        "\n",
        "Q, Q_steps_total, Q_rewards_total, Q_egreedy_total = train_qlearning(gamma,learning_rate)"
      ],
      "metadata": {
        "id": "BE9GygfbQrt-"
      },
      "execution_count": 35,
      "outputs": []
    },
    {
      "cell_type": "markdown",
      "source": [
        "### **SARSA**"
      ],
      "metadata": {
        "id": "6TOfzIjN7T3G"
      }
    },
    {
      "cell_type": "code",
      "source": [
        "def train_sarsa(gamma,learning_rate):\n",
        "  # Create empty lists to store step, reward, egreedy\n",
        "  S_steps_total = []\n",
        "  S_rewards_total = []\n",
        "  S_egreedy_total = []\n",
        "  egreedy = egreedy_start\n",
        "  # Create table to store Q-value (initialized with 0)\n",
        "  S_Q = torch.zeros([number_of_states, number_of_actions])\n",
        "\n",
        "  # Train the agent\n",
        "  for i_episode in range(num_episodes):\n",
        "    # Resets the environment\n",
        "    state = env.reset()\n",
        "    step = 0\n",
        "\n",
        "    while True:\n",
        "        step += 1\n",
        "        # Take random action with probablity = egreedy\n",
        "        random_for_egreedy = torch.rand(1)[0]\n",
        "        if random_for_egreedy > egreedy:     \n",
        "            q_values = [S_Q[state][action] for action in [0,1,2,3]]  \n",
        "            max_q = max(q_values)\n",
        "            if q_values.count(max_q) > 1:\n",
        "              best_actions = [i for i in [0,1,2,3] if q_values[i] == max_q]\n",
        "              action = random.choice(best_actions) # randomly choose best action that has the same max Q\n",
        "            else:\n",
        "              action = q_values.index(max_q)\n",
        "            '''random_values = S_Q[state] + torch.rand(1,number_of_actions) / 1000      \n",
        "            action = torch.max(random_values,1)[1][0]  \n",
        "            action = action.item()'''\n",
        "        else:\n",
        "            action = env.get_random_action().value\n",
        "        # Decaying egreedy until reaching egreedy_final          \n",
        "        if egreedy > egreedy_final:\n",
        "            egreedy *= egreedy_decay\n",
        "        # Get environment info after taking action\n",
        "        new_state, reward, done = env.step(action)\n",
        "\n",
        "        # Filling the Q-Table\n",
        "        current_q = S_Q[state, action] # get the current Q-value\n",
        "        random_values = S_Q[new_state] + torch.rand(1,number_of_actions) / 1000      \n",
        "        next_action = torch.max(random_values,1)[1][0]  \n",
        "        next_action = next_action.item() # get the action for next state\n",
        "        next_q = S_Q[new_state, next_action] # get the q-value for next state, next action \n",
        "        update_q = (1 - learning_rate)* current_q + learning_rate * (reward + gamma * next_q) # get the updated Q-value\n",
        "        S_Q[state, action] = update_q\n",
        "        state = new_state\n",
        "        # If the episode ends, update steps_total, rewards_total, egreedy_total\n",
        "        if done:\n",
        "            S_steps_total.append(step)\n",
        "            S_rewards_total.append(reward)\n",
        "            S_egreedy_total.append(egreedy)\n",
        "            #print('Episode: {} Reward: {} Steps Taken: {}'.format(i_episode,reward, step))\n",
        "            break\n",
        "  return S_Q, S_steps_total, S_rewards_total, S_egreedy_total\n",
        "\n",
        "S_Q, S_steps_total, S_rewards_total, S_egreedy_total = train_sarsa(gamma,learning_rate)"
      ],
      "metadata": {
        "id": "hbTUj8ld7X9b"
      },
      "execution_count": 36,
      "outputs": []
    },
    {
      "cell_type": "markdown",
      "source": [
        "### **Random**"
      ],
      "metadata": {
        "id": "mJjjx1BW7YEl"
      }
    },
    {
      "cell_type": "code",
      "source": [
        "# Create empty lists to store step, reward, egreedy\n",
        "R_steps_total = []\n",
        "R_rewards_total = []\n",
        "\n",
        "# Train the agent\n",
        "for i_episode in range(num_episodes):\n",
        "    # Resets the environment\n",
        "    state = env.reset()\n",
        "    step = 0\n",
        "\n",
        "    while True:\n",
        "        step += 1\n",
        "        # Take random action\n",
        "        action = env.get_random_action().value\n",
        "        # Get environment info after taking action\n",
        "        new_state, reward, done = env.step(action)\n",
        "        # Go to next state\n",
        "        state = new_state\n",
        "        # If the episode ends, update steps_total, rewards_total, egreedy_total\n",
        "        if done:\n",
        "            R_steps_total.append(step)\n",
        "            R_rewards_total.append(reward)\n",
        "            #print('Episode: {} Reward: {} Steps Taken: {}'.format(i_episode,reward, step))\n",
        "            break"
      ],
      "metadata": {
        "id": "-TcI3hXf7cY1"
      },
      "execution_count": 37,
      "outputs": []
    },
    {
      "cell_type": "markdown",
      "source": [
        "# **Insights**"
      ],
      "metadata": {
        "id": "qb7XK1Az7cww"
      }
    },
    {
      "cell_type": "code",
      "source": [
        "# Episode finished and average step across agents\n",
        "print(\"=========================== Q-learning =============================\")        \n",
        "print(\"Percent of episodes finished successfully: {0}\".format(sum(Q_rewards_total)/num_episodes))\n",
        "print(\"Percent of episodes finished successfully (last 100 episodes): {0}\".format(sum(Q_rewards_total[-100:])/100))\n",
        "print(\"Average number of steps: %.2f\" % (sum(Q_steps_total)/num_episodes))\n",
        "print(\"Average number of steps (last 100 episodes): %.2f\" % (sum(Q_steps_total[-100:])/100))\n",
        "\n",
        "print(\"============================= SARSA ================================\")        \n",
        "print(\"Percent of episodes finished successfully: {0}\".format(sum(S_rewards_total)/num_episodes))\n",
        "print(\"Percent of episodes finished successfully (last 100 episodes): {0}\".format(sum(S_rewards_total[-100:])/100))\n",
        "print(\"Average number of steps: %.2f\" % (sum(S_steps_total)/num_episodes))\n",
        "print(\"Average number of steps (last 100 episodes): %.2f\" % (sum(S_steps_total[-100:])/100))\n",
        "\n",
        "print(\"============================= Random ===============================\")        \n",
        "print(\"Percent of episodes finished successfully: {0}\".format(sum(R_rewards_total)/num_episodes))\n",
        "print(\"Percent of episodes finished successfully (last 100 episodes): {0}\".format(sum(R_rewards_total[-100:])/100))\n",
        "print(\"Average number of steps: %.2f\" % (sum(R_steps_total)/num_episodes))\n",
        "print(\"Average number of steps (last 100 episodes): %.2f\" % (sum(R_steps_total[-100:])/100))"
      ],
      "metadata": {
        "id": "CJjJ-diVj6Qs",
        "outputId": "71368499-e05b-44ad-ef3c-9b39d19b2915",
        "colab": {
          "base_uri": "https://localhost:8080/"
        }
      },
      "execution_count": 38,
      "outputs": [
        {
          "output_type": "stream",
          "name": "stdout",
          "text": [
            "=========================== Q-learning =============================\n",
            "Percent of episodes finished successfully: 0.807\n",
            "Percent of episodes finished successfully (last 100 episodes): 0.94\n",
            "Average number of steps: 6.55\n",
            "Average number of steps (last 100 episodes): 6.28\n",
            "============================= SARSA ================================\n",
            "Percent of episodes finished successfully: 0.713\n",
            "Percent of episodes finished successfully (last 100 episodes): 0.88\n",
            "Average number of steps: 6.50\n",
            "Average number of steps (last 100 episodes): 6.10\n",
            "============================= Random ===============================\n",
            "Percent of episodes finished successfully: 0.014\n",
            "Percent of episodes finished successfully (last 100 episodes): 0.02\n",
            "Average number of steps: 7.90\n",
            "Average number of steps (last 100 episodes): 8.68\n"
          ]
        }
      ]
    },
    {
      "cell_type": "code",
      "source": [
        "# Reward per episode across agents\n",
        "fig, axs = plt.subplots(nrows=1, ncols=3, figsize=(20, 4))\n",
        "# Plot the first subplot\n",
        "axs[0].bar(torch.arange(len(Q_rewards_total)), Q_rewards_total, color='darkorange')\n",
        "axs[0].set_title('Q-learning')\n",
        "axs[0].set_xlabel('Number of episode')\n",
        "axs[0].set_ylabel('Reward')\n",
        "# Plot the second subplot\n",
        "axs[1].bar(torch.arange(len(S_rewards_total)), S_rewards_total, color='darkgreen')\n",
        "axs[1].set_title('SARSA')\n",
        "axs[1].set_xlabel('Number of episode')\n",
        "axs[1].set_ylabel('Reward')\n",
        "# Plot the third subplot\n",
        "axs[2].bar(torch.arange(len(R_rewards_total)), R_rewards_total, color='darkblue')\n",
        "axs[2].set_title('Random')\n",
        "axs[2].set_xlabel('Number of episode')\n",
        "axs[2].set_ylabel('Reward')\n",
        "# Show the plot\n",
        "plt.tight_layout()\n",
        "plt.show()"
      ],
      "metadata": {
        "id": "sl0N-FP9llSi",
        "outputId": "781f5fa5-77e5-4763-c23f-c308e1209cce",
        "colab": {
          "base_uri": "https://localhost:8080/",
          "height": 297
        }
      },
      "execution_count": 39,
      "outputs": [
        {
          "output_type": "display_data",
          "data": {
            "text/plain": [
              "<Figure size 1440x288 with 3 Axes>"
            ],
            "image/png": "[encoded data removed]"
          },
          "metadata": {
            "needs_background": "light"
          }
        }
      ]
    },
    {
      "cell_type": "code",
      "source": [
        "# Step length across agent\n",
        "fig, axs = plt.subplots(nrows=1, ncols=3, figsize=(20, 4))\n",
        "y_lim = (0, max(max(Q_steps_total), max(S_steps_total), max(R_steps_total)) + 1)\n",
        "# Plot the first subplot\n",
        "axs[0].bar(torch.arange(len(Q_steps_total)), Q_steps_total, color='darkorange')\n",
        "axs[0].set_ylim(y_lim)\n",
        "axs[0].set_title('Q-learning')\n",
        "axs[0].set_xlabel('Number of episode')\n",
        "axs[0].set_ylabel('Step length')\n",
        "# Plot the second subplot\n",
        "axs[1].bar(torch.arange(len(S_steps_total)), S_steps_total, color='darkgreen')\n",
        "axs[1].set_ylim(y_lim)\n",
        "axs[1].set_title('SARSA')\n",
        "axs[1].set_xlabel('Number of episode')\n",
        "axs[1].set_ylabel('Step length')\n",
        "# Plot the third subplot\n",
        "axs[2].bar(torch.arange(len(R_steps_total)), R_steps_total, color='darkblue')\n",
        "axs[2].set_ylim(y_lim)\n",
        "axs[2].set_title('Random')\n",
        "axs[2].set_xlabel('Number of episode')\n",
        "axs[2].set_ylabel('Step length')\n",
        "# Show the plot\n",
        "plt.tight_layout()\n",
        "plt.show()"
      ],
      "metadata": {
        "id": "A05dswyZly-J",
        "outputId": "e17310a8-5e4c-4317-a77d-09bd49d2ba28",
        "colab": {
          "base_uri": "https://localhost:8080/",
          "height": 297
        }
      },
      "execution_count": 34,
      "outputs": [
        {
          "output_type": "display_data",
          "data": {
            "text/plain": [
              "<Figure size 1440x288 with 3 Axes>"
            ],
            "image/png": "[encoded data removed]"
          },
          "metadata": {
            "needs_background": "light"
          }
        }
      ]
    },
    {
      "cell_type": "markdown",
      "source": [
        "We can see that at the beginning the steps taken in an episode is large because we have high number of random actions. As we learn from experience, we start to take more informed steps , hence resulting is fewer steps and more success rate."
      ],
      "metadata": {
        "id": "4hjjrRD3l6_g"
      }
    },
    {
      "cell_type": "code",
      "source": [
        "# Epsilon per episode across agent\n",
        "fig, axs = plt.subplots(nrows=1, ncols=2, figsize=(18, 4))\n",
        "# Plot the first subplot\n",
        "axs[0].bar(torch.arange(len(Q_egreedy_total)), Q_egreedy_total, color='darkorange')\n",
        "axs[0].set_title('Q-learning')\n",
        "axs[0].set_xlabel('Number of episode')\n",
        "axs[0].set_ylabel('Epsilon (exploration rate)')\n",
        "# Plot the second subplot\n",
        "axs[1].bar(torch.arange(len(S_egreedy_total)), S_egreedy_total, color='darkgreen')\n",
        "axs[1].set_title('SARSA')\n",
        "axs[1].set_xlabel('Number of episode')\n",
        "axs[1].set_ylabel('Epsilon (exploration rate)')"
      ],
      "metadata": {
        "id": "xlwAiycvohPz",
        "outputId": "c896e210-d07f-418d-bcee-17105db4560a",
        "colab": {
          "base_uri": "https://localhost:8080/",
          "height": 312
        }
      },
      "execution_count": 25,
      "outputs": [
        {
          "output_type": "execute_result",
          "data": {
            "text/plain": [
              "Text(0, 0.5, 'Epsilon (exploration rate)')"
            ]
          },
          "metadata": {},
          "execution_count": 25
        },
        {
          "output_type": "display_data",
          "data": {
            "text/plain": [
              "<Figure size 1296x288 with 2 Axes>"
            ],
            "image/png": "[encoded data removed]"
          },
          "metadata": {
            "needs_background": "light"
          }
        }
      ]
    },
    {
      "cell_type": "code",
      "source": [
        "# For each state, get the state-value by taking the max value among the actions\n",
        "Q_state_value = torch.max(Q, dim=1).values.numpy()\n",
        "print(Q_state_value)\n",
        "S_state_value = torch.max(S_Q, dim=1).values.numpy()\n",
        "print(S_state_value)"
      ],
      "metadata": {
        "id": "WXM3vYNiCIM3",
        "outputId": "2c1089ec-82b7-4489-fbd8-4ecb21f0778b",
        "colab": {
          "base_uri": "https://localhost:8080/"
        }
      },
      "execution_count": 26,
      "outputs": [
        {
          "output_type": "stream",
          "name": "stdout",
          "text": [
            "[0.77378076 0.7350917  0.84100753 0.         0.81450605 0.\n",
            " 0.9024999  0.         0.85737485 0.9024999  0.9499999  0.\n",
            " 0.         0.9499999  1.         0.        ]\n",
            "[0.77378076 0.81450605 0.85737485 0.81449795 0.7350182  0.\n",
            " 0.9024999  0.         0.         0.9024958  0.9499999  0.\n",
            " 0.         0.9499999  1.         0.        ]\n"
          ]
        }
      ]
    },
    {
      "cell_type": "code",
      "source": [
        "# Reshape data & get game map\n",
        "Q_data = np.array(Q_state_value).reshape((4, 4))\n",
        "S_data = np.array(S_state_value).reshape((4, 4))\n",
        "map = np.array([['S', 'F', 'F', 'F'], \n",
        "          ['F', 'H', 'F', 'H'], \n",
        "          ['F', 'F', 'F', 'H'], \n",
        "          ['H', 'F', 'F', 'G']])\n",
        "\n",
        "map_num = np.array([[7, 10, 10, 10], \n",
        "                    [10, 0, 10, 0], \n",
        "                    [10, 10, 10, 0], \n",
        "                    [0, 10, 10, 7]])\n",
        "\n",
        "# Plot the game map\n",
        "fig, ax = plt.subplots(figsize=(12,5))\n",
        "im = ax.imshow(map_num, cmap='RdYlGn',vmin = 0, vmax=10)\n",
        "# Show all ticks and ticklabels\n",
        "ax.set_xticks(range(len(map[0])))\n",
        "ax.set_yticks(range(len(map)))\n",
        "ax.set_xticklabels(range(1, len(map[0])+1))\n",
        "ax.set_yticklabels(range(1, len(map)+1))\n",
        "# Add text annotations for each cell\n",
        "for i in range(len(map)):\n",
        "    for j in range(len(map[0])):\n",
        "        text = ax.text(j, i, map[i][j],\n",
        "                       ha=\"center\", va=\"center\", color=\"white\")\n",
        "# Set title and show plot\n",
        "ax.set_title(\"Game map\")\n",
        "fig.tight_layout()\n",
        "plt.show()\n",
        "\n",
        "# Plot the state value for both agents\n",
        "def plot_state_value(data, agent_name):\n",
        "  # Plot grid\n",
        "  fig, ax = plt.subplots(figsize=(12,5))\n",
        "  im = ax.imshow(data, cmap='RdYlGn')\n",
        "  # Add colorbar\n",
        "  cbar = ax.figure.colorbar(im, ax=ax)\n",
        "  # Set tick labels\n",
        "  ax.set_xticks(np.arange(data.shape[1]))\n",
        "  ax.set_yticks(np.arange(data.shape[0]))\n",
        "  ax.set_xticklabels(np.arange(4))\n",
        "  ax.set_yticklabels(np.arange(4))\n",
        "  # Rotate tick labels and set alignment\n",
        "  plt.setp(ax.get_xticklabels(), rotation=45, ha=\"right\", rotation_mode=\"anchor\")\n",
        "  # Loop over data dimensions and create text annotations\n",
        "  for i in range(data.shape[0]):\n",
        "      for j in range(data.shape[1]):\n",
        "          text = ax.text(j, i, round(data[i, j],2),\n",
        "                       ha=\"center\", va=\"center\", color=\"white\")\n",
        "  # Set title and show plot\n",
        "  ax.set_title(f\"State-value of {agent_name}\")\n",
        "  plt.show()\n",
        "\n",
        "plot_state_value(Q_data,\"Q-learning\")\n",
        "plot_state_value(S_data,\"SARSA\")"
      ],
      "metadata": {
        "id": "vdi-bZjSy1T_",
        "outputId": "fb717285-5edb-45d8-ef54-6f967a1fbb4f",
        "colab": {
          "base_uri": "https://localhost:8080/",
          "height": 1000
        }
      },
      "execution_count": 27,
      "outputs": [
        {
          "output_type": "display_data",
          "data": {
            "text/plain": [
              "<Figure size 864x360 with 1 Axes>"
            ],
            "image/png": "[encoded data removed]"
          },
          "metadata": {
            "needs_background": "light"
          }
        },
        {
          "output_type": "display_data",
          "data": {
            "text/plain": [
              "<Figure size 864x360 with 2 Axes>"
            ],
            "image/png": "[encoded data removed]"
          },
          "metadata": {
            "needs_background": "light"
          }
        },
        {
          "output_type": "display_data",
          "data": {
            "text/plain": [
              "<Figure size 864x360 with 2 Axes>"
            ],
            "image/png": "[encoded data removed]"
          },
          "metadata": {
            "needs_background": "light"
          }
        }
      ]
    }
  ]
}